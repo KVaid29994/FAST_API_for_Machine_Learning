{
 "cells": [
  {
   "cell_type": "markdown",
   "id": "a3c0ddfb",
   "metadata": {},
   "source": [
    "## 📘 **Introduction to Pydantic**"
   ]
  },
  {
   "cell_type": "markdown",
   "id": "a817138b",
   "metadata": {},
   "source": [
    "**Pydantic** is a Python library for data parsing and validation using **Python type hints.**\n",
    "\n",
    "It allows you to define **data models** as Python classes, and it automatically:\n",
    "- Validates incoming data\n",
    "- Converts data to the correct types\n",
    "- Generates helpful error messages\n"
   ]
  },
  {
   "cell_type": "markdown",
   "id": "fc0e0dc2",
   "metadata": {},
   "source": [
    "> ✅ Great for APIs, configuration management, and data validation tasks"
   ]
  },
  {
   "cell_type": "markdown",
   "id": "c52cc55f",
   "metadata": {},
   "source": [
    "# 🎯 Key Features of Pydantic\n",
    "\n",
    "Here are some of the core features that make Pydantic powerful:\n",
    "\n",
    "- 🔍 **Data Validation**: Ensures data matches the expected types.\n",
    "- 🔄 **Type Parsing**: Converts incoming values into proper Python types.\n",
    "- 📢 **Clear Error Messages**: Human-friendly messages when validation fails.\n",
    "- ⚙️ **Environment Settings**: Built-in support for managing config via environment variables.\n",
    "- 🧱 **Nested Models**: Supports complex, nested data structures out of the box."
   ]
  },
  {
   "cell_type": "markdown",
   "id": "4fb6914c",
   "metadata": {},
   "source": [
    "### **WHY PYDANTIC?**"
   ]
  },
  {
   "cell_type": "code",
   "execution_count": null,
   "id": "4e931aa7",
   "metadata": {},
   "outputs": [],
   "source": [
    "def insert_patient_data(name,age):\n",
    "    print (name)\n",
    "    print(age)\n",
    "    print (\"Inserted into database\")"
   ]
  },
  {
   "cell_type": "code",
   "execution_count": 2,
   "id": "31694e77",
   "metadata": {},
   "outputs": [
    {
     "name": "stdout",
     "output_type": "stream",
     "text": [
      "Kashish\n",
      "Thirty\n",
      "Inserted into database\n"
     ]
    }
   ],
   "source": [
    "insert_patient_data(\"Kashish\", \"Thirty\")"
   ]
  },
  {
   "cell_type": "markdown",
   "id": "19fdaa54",
   "metadata": {},
   "source": [
    "#### ***USE TYPE HINTING?***\n"
   ]
  },
  {
   "cell_type": "code",
   "execution_count": null,
   "id": "881bbdb9",
   "metadata": {},
   "outputs": [],
   "source": [
    "def insert_patient_data(name : str,age : int):\n",
    "    print (name)\n",
    "    print(age)\n",
    "    print (\"Inserted into database\")"
   ]
  },
  {
   "cell_type": "code",
   "execution_count": 7,
   "id": "9baa5103",
   "metadata": {},
   "outputs": [
    {
     "name": "stdout",
     "output_type": "stream",
     "text": [
      "Kashish\n",
      "30\n",
      "Inserted into database\n"
     ]
    }
   ],
   "source": [
    "insert_patient_data(\"Kashish\", 30)"
   ]
  },
  {
   "cell_type": "code",
   "execution_count": 8,
   "id": "7910f229",
   "metadata": {},
   "outputs": [
    {
     "name": "stdout",
     "output_type": "stream",
     "text": [
      "Rajat\n",
      "Thirty\n",
      "Inserted into database\n"
     ]
    }
   ],
   "source": [
    "insert_patient_data(\"Rajat\", \"Thirty\")"
   ]
  },
  {
   "cell_type": "code",
   "execution_count": 13,
   "id": "cb3adfc4",
   "metadata": {},
   "outputs": [],
   "source": [
    "def insert_patient_data(name : str,age : int):\n",
    "    if type(name) == str and type(age) ==int:\n",
    "        print (name)\n",
    "        print(age)\n",
    "        print (\"Inserted into database\")\n",
    "    else:\n",
    "        raise TypeError(\"incorrect data type\")"
   ]
  },
  {
   "cell_type": "code",
   "execution_count": 16,
   "id": "f9dfb523",
   "metadata": {},
   "outputs": [
    {
     "name": "stdout",
     "output_type": "stream",
     "text": [
      "Kashish\n",
      "30\n",
      "Inserted into database\n"
     ]
    }
   ],
   "source": [
    "insert_patient_data(\"Kashish\", 30)"
   ]
  },
  {
   "cell_type": "markdown",
   "id": "cf3d7a76",
   "metadata": {},
   "source": [
    "## ⚠️ ***Drawbacks of Type Hinting in Python***\n",
    "\n",
    "While type hinting offers many benefits, it comes with its own set of limitations and trade-offs:\n",
    "\n",
    "---\n",
    "\n",
    "### 🐢 1. Increased Verbosity\n",
    "<p style=\"color:orange\">\n",
    "Type hints can make code longer and harder to read, especially with complex nested types.\n",
    "</p>\n",
    "\n"
   ]
  },
  {
   "cell_type": "markdown",
   "id": "59a935b3",
   "metadata": {},
   "source": [
    "### 🧠 2. No Runtime Enforcement\n",
    "<p style=\"color:pink\"> Python’s type hints are not enforced at runtime unless you use external tools (e.g., Pydantic, Enforce). </p>"
   ]
  },
  {
   "cell_type": "markdown",
   "id": "c1aafed6",
   "metadata": {},
   "source": [
    "### 🧰 3. Requires External Tools\n",
    "<p style=\"color:lightblue \"> You need tools like <code>mypy</code>, <code>pyright</code>, or IDE support to actually benefit from type hints. </p>\n",
    "💡 Beginners might find it overwhelming to configure and interpret these tools."
   ]
  },
  {
   "cell_type": "markdown",
   "id": "fd2e442a",
   "metadata": {},
   "source": [
    "### 🧪 4. ***Redundant in Dynamic Contexts***\n",
    "<p style=\"color:brown\"> In many quick scripts or data-science workflows, type hints add little value and slow down prototyping. </p>\n",
    "For example, in a Jupyter notebook, adding type hints can reduce flexibility without much benefit."
   ]
  },
  {
   "cell_type": "markdown",
   "id": "6fc86bf4",
   "metadata": {},
   "source": [
    "# PYDANTIC"
   ]
  },
  {
   "cell_type": "markdown",
   "id": "3b63afc4",
   "metadata": {},
   "source": [
    "## 3 Simple Steps to Use Pydantic (For Humans!)"
   ]
  },
  {
   "cell_type": "markdown",
   "id": "23dcd0b8",
   "metadata": {},
   "source": [
    "Pydantic can seem fancy, but it's actually very simple when broken down.\n",
    "\n",
    "Here’s how you can use it in **3 easy steps** — like filling a form and checking it!\n",
    "\n",
    "---\n",
    "\n",
    "## 1️⃣ Define a Schema (Like Designing a Form)\n",
    "\n",
    "🧾 Think of this as **designing a form** — you tell Pydantic what fields to expect and what type of data they should be.\n",
    "\n",
    "```python\n",
    "from pydantic import BaseModel\n",
    "\n",
    "class Person(BaseModel):\n",
    "    name: str\n",
    "    age: int\n",
    "    email: str"
   ]
  },
  {
   "cell_type": "markdown",
   "id": "71543c08",
   "metadata": {},
   "source": [
    "📌 This says:\n",
    "\n",
    "\"Hey Pydantic, every person must have a name (text), age (number), and email (text).\""
   ]
  },
  {
   "cell_type": "markdown",
   "id": "22a03cad",
   "metadata": {},
   "source": [
    "## 2️⃣ Create an Instance (Like Receiving a Filled Form)\n",
    "📝 Now you can create a person by passing data to the model.\n",
    "\n",
    "\n",
    "person = Person(name=\"Alice\", age=30, email=\"alice@example.com\")\n",
    "\n",
    "print(person)"
   ]
  },
  {
   "cell_type": "markdown",
   "id": "3a557e9e",
   "metadata": {},
   "source": [
    "## 3️⃣ Let Pydantic Validate the Data Automatically\n",
    "🧠 If someone fills the form incorrectly (e.g., age is a string), Pydantic catches the mistake!\n",
    "\n"
   ]
  },
  {
   "cell_type": "markdown",
   "id": "e2278066",
   "metadata": {},
   "source": [
    "-  This will raise a validation error\n",
    "person = Person(name=\"Bob\", age=\"not a number\", email=\"bob@example.com\")"
   ]
  },
  {
   "cell_type": "markdown",
   "id": "d47818c1",
   "metadata": {},
   "source": [
    "| Step | What Happens             | Analogy                           |\n",
    "| ---- | ------------------------ | --------------------------------- |\n",
    "| 1️⃣  | Define a `BaseModel`     | Create a form                     |\n",
    "| 2️⃣  | Create an object         | Fill the form                     |\n",
    "| 3️⃣  | Let Pydantic validate it | Check if form is correctly filled |\n"
   ]
  },
  {
   "cell_type": "markdown",
   "id": "1f12759c",
   "metadata": {},
   "source": [
    "### 🧰 Inbuilt Type Validators in Pydantic"
   ]
  },
  {
   "cell_type": "markdown",
   "id": "acfbe82a",
   "metadata": {},
   "source": [
    "| Type | Description | Example Usage | Valid Example |\n",
    "|------|-------------|---------------|----------------|\n",
    "| `EmailStr` | Validates email strings | `email: EmailStr` | `\"alice@example.com\"` |\n",
    "| `HttpUrl` | Validates HTTP URLs | `website: HttpUrl` | `\"http://example.com\"` |\n",
    "| `conint(gt=0)` | Constrained int (e.g., > 0) | `age: conint(gt=0)` | `25` |\n",
    "| `constr(min_length=3)` | Constrained string | `username: constr(min_length=3)` | `\"joe\"` |\n",
    "| `PositiveInt` | Integer > 0 | `count: PositiveInt` | `3` |\n",
    "| `StrictStr` | Must be exactly a string (no coercion) | `title: StrictStr` | `\"Hello\"` |\n",
    "| `StrictBool` | Must be boolean (True/False only) | `active: StrictBool` | `True` |\n",
    "| `IPvAnyAddress` | Validates IP addresses (v4 or v6) | `ip: IPvAnyAddress` | `\"192.168.1.1\"` |\n",
    "| `UUID` | Validates UUID format | `session_id: UUID` | `\"123e4567-e89b-12d3-a456-426614174000\"` |\n",
    "| `Decimal` | For exact decimal numbers | `price: Decimal` | `Decimal(\"19.99\")` |\n",
    "\n",
    "> 💡 All these types come from:  \n",
    "> `from pydantic import BaseModel, EmailStr, HttpUrl, conint, constr, PositiveInt, StrictStr, StrictBool`  \n",
    "> `from pydantic.networks import IPvAnyAddress`  \n",
    "> `from uuid import UUID`  \n",
    "> `from decimal import Decimal`\n",
    "\n",
    "---"
   ]
  },
  {
   "cell_type": "markdown",
   "id": "a7e46398",
   "metadata": {},
   "source": [
    "## 🛡️ **What is Data Validation in Pydantic?**"
   ]
  },
  {
   "cell_type": "markdown",
   "id": "f1908667",
   "metadata": {},
   "source": [
    "| What                  | How                           |\n",
    "| --------------------- | ----------------------------- |\n",
    "| ✅ Validates types     | `int`, `str`, etc.            |\n",
    "| 🔄 Auto converts data | `\"25\"` → `25`                 |\n",
    "| 🚫 Blocks bad input   | Raises `ValidationError`      |\n",
    "| 💬 Clear errors       | Human-friendly error messages |\n"
   ]
  },
  {
   "cell_type": "markdown",
   "id": "76b2d96d",
   "metadata": {},
   "source": [
    "### **🧾 Field() in Pydantic**\n",
    "The Field() function in Pydantic is used to provide metadata, validation rules, and default values for fields in a BaseModel."
   ]
  },
  {
   "cell_type": "markdown",
   "id": "c853e203",
   "metadata": {},
   "source": [
    "| Parameter         | Description                                                         |\n",
    "| ----------------- | ------------------------------------------------------------------- |\n",
    "| `default`         | Sets the default value for the field                                |\n",
    "| `default_factory` | Used to dynamically generate a default value (e.g., `datetime.now`) |\n",
    "| `title`           | A human-readable title (used in schema generation)                  |\n",
    "| `description`     | A description of the field                                          |\n",
    "| `gt`, `ge`        | Greater than / Greater than or equal to (for numeric fields)        |\n",
    "| `lt`, `le`        | Less than / Less than or equal to                                   |\n",
    "| `min_length`      | Minimum length for strings or lists                                 |\n",
    "| `max_length`      | Maximum length for strings (use `max_items` for lists)              |\n",
    "| `min_items`       | Minimum number of items (for lists)                                 |\n",
    "| `max_items`       | Maximum number of items (for lists)                                 |\n",
    "| `regex`           | Regex pattern for string validation                                 |\n",
    "| `alias`           | Alternate name for external input/output                            |\n",
    "| `deprecated`      | Marks the field as deprecated (used in schema docs)                 |\n",
    "| `examples`        | Provide example values (used in OpenAPI docs)                       |\n",
    "| `exclude`         | If `True`, excludes the field from `.dict()` and `.json()` output   |\n"
   ]
  },
  {
   "cell_type": "markdown",
   "id": "8967c9c1",
   "metadata": {},
   "source": [
    "✅ How to Add Metadata\n",
    "You can add metadata using keyword arguments like title, description, examples, and custom metadata using extra keyword arguments.\n",
    "\n",
    "| Keyword       | Purpose                                              |\n",
    "| ------------- | ---------------------------------------------------- |\n",
    "| `title`       | A human-readable title for the field                 |\n",
    "| `description` | A short explanation of the field                     |\n",
    "| `examples`    | One or more example values                           |\n",
    "| `example`     | A single example (used by some OpenAPI tools)        |\n",
    "| `deprecated`  | Indicates the field is deprecated (used in API docs) |\n",
    "| `alias`       | Provide an alternative name for JSON input/output    |\n"
   ]
  },
  {
   "cell_type": "code",
   "execution_count": 12,
   "id": "c2a5a490",
   "metadata": {},
   "outputs": [
    {
     "name": "stdout",
     "output_type": "stream",
     "text": [
      "Rajesh\n",
      "kanha@gmail.com\n",
      "40\n",
      "88.2\n",
      "False\n",
      "None\n",
      "http://linkedin.com/222444\n",
      "inserted\n",
      "kashish\n",
      "30\n",
      "http://linkedin.com/12234\n",
      "75.2\n",
      "None\n",
      "['pollen', 'dust']\n",
      "updated\n"
     ]
    }
   ],
   "source": [
    "from pydantic import BaseModel, EmailStr, HttpUrl, AnyUrl, Field, conlist\n",
    "from typing import List, Dict, Optional, Annotated\n",
    "\n",
    "class Patient(BaseModel):\n",
    "    name : Annotated[str,Field(max_length=50, title = \"Name of the patient\", description= \"give the name of the patient\", examples=[\"nitin\", \"kashish\"])]\n",
    "    email : EmailStr\n",
    "    age : int =Field(gt =0 , lt=125)\n",
    "    linkedin_url : AnyUrl\n",
    "    weight : Annotated[float, Field(gt=0, strict= True)]\n",
    "    married : Annotated[bool, Field(default=None, description= \"is the patient married or not\")]\n",
    "    allergies: Optional[List[str]] = Field(default=None, max_items=5)\n",
    "    contact_details : Dict[str,str]\n",
    "  \n",
    "\n",
    "def insert_patient_data(patient: Patient):\n",
    "    print (patient.name)\n",
    "    print (patient.email)\n",
    "    print (patient.age)\n",
    "    print (patient.weight)\n",
    "    print (patient.married)\n",
    "    print (patient.allergies)\n",
    "    print (patient.linkedin_url)\n",
    "    print (\"inserted\")\n",
    "\n",
    "## create an object\n",
    "patient_info = {'name':\"Rajesh\",\"age\":40,'email':'kanha@gmail.com','weight':88.2,\"linkedin_url\":\"http://linkedin.com/222444\", \"married\":0, \"contact_details\": { \"phone\":'123344'}}\n",
    "\n",
    "patient_2 = Patient(**patient_info)\n",
    "insert_patient_data(patient_2)\n",
    "\n",
    "def update_patient(patient: Patient):\n",
    "    print (patient.name)\n",
    "    print (patient.age)\n",
    "    print (patient.linkedin_url)\n",
    "    print (patient.weight)\n",
    "    print (patient.married)\n",
    "    print (patient.allergies)\n",
    "    print (\"updated\")\n",
    "\n",
    "patient_info = {'name':\"kashish\",\"email\":\"abc@gmail.com\",\"linkedin_url\":\"http://linkedin.com/12234\",\"age\":30,'weight':75.2,'allergies':['pollen', \"dust\"], \"contact_details\": { \"phone\":'123344'}}\n",
    "\n",
    "patient_1 = Patient(**patient_info)\n",
    "update_patient(patient_1)"
   ]
  }
 ],
 "metadata": {
  "kernelspec": {
   "display_name": "kash",
   "language": "python",
   "name": "python3"
  },
  "language_info": {
   "codemirror_mode": {
    "name": "ipython",
    "version": 3
   },
   "file_extension": ".py",
   "mimetype": "text/x-python",
   "name": "python",
   "nbconvert_exporter": "python",
   "pygments_lexer": "ipython3",
   "version": "3.12.6"
  }
 },
 "nbformat": 4,
 "nbformat_minor": 5
}
