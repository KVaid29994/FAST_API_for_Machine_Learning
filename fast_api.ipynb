{
 "cells": [
  {
   "cell_type": "markdown",
   "id": "faf23ad8",
   "metadata": {},
   "source": [
    "### **What is an API?**\n",
    "\n",
    "What is an API?\n",
    "An API (Application Programming Interface) allows two applications to communicate with each other — \n",
    "for example, sending input to a machine learning model and receiving predictions in return."
   ]
  },
  {
   "cell_type": "markdown",
   "id": "fe6be426",
   "metadata": {},
   "source": [
    "🔁 API Analogy: The Restaurant Menu\n",
    "- Think of an API like a restaurant menu.\n",
    "\n",
    "- The menu lists dishes (services) you can request.\n",
    "\n",
    "- You (the user) place an order (API request) through a waiter (the API).\n",
    "\n",
    "- The kitchen (server or model) prepares the dish and sends it back via the waiter as a response.\n",
    "\n",
    "You don’t need to know how the kitchen works—you just make a request and get a result. That’s exactly how APIs work with software systems."
   ]
  },
  {
   "cell_type": "markdown",
   "id": "6161c223",
   "metadata": {},
   "source": [
    "## 🧱 **Challenges of Monolithic Architectures (Pre-API Era)**\n",
    "\n",
    "Before APIs became the standard for system communication, applications were typically built as **monolithic architectures** — large, tightly-coupled codebases where every feature was bundled together.\n",
    "\n",
    "### ❌ **Key Challenges:**\n",
    "\n",
    "### 🔄 **Tight Coupling**  \n",
    "All components (UI, business logic, database) were **interdependent**. A change in one part could **break the entire system**.\n",
    "\n",
    "### 🧩 **Limited Reusability**  \n",
    "Functionality couldn’t be reused across projects easily. Everything had to be **rewritten or copied**, increasing code duplication and maintenance effort.\n",
    "\n",
    "### 🐌 **Scalability Issues**  \n",
    "You had to scale the **entire application** even if only one module (e.g., user login) needed more resources — this led to **inefficient resource usage**.\n",
    "\n",
    "### ⏳ **Slow Development & Deployment**  \n",
    "Since all teams worked on a single codebase, development was **slower**, testing was **heavier**, and deployment cycles were **long and risky**.\n",
    "\n",
    "### 🔐 **Security Risks**  \n",
    "With everything in one place, it's harder to isolate and protect sensitive components — **a vulnerability in one part could expose the whole system**.\n",
    "\n",
    "---\n",
    "\n",
    "➡️ These challenges created a strong need for **modular, decoupled architectures** — leading to the rise of **APIs** and **microservices** as modern solutions.\n"
   ]
  },
  {
   "cell_type": "markdown",
   "id": "dd9f82ad",
   "metadata": {},
   "source": [
    "---"
   ]
  },
  {
   "cell_type": "markdown",
   "id": "2f3ddbc8",
   "metadata": {},
   "source": [
    "#### ✅ **Why Do We Need APIs?**\n",
    "\n",
    "#### 🔗 **Communication Between Systems**  \n",
    "APIs allow different software systems to talk to each other — like your _app_ interacting with a _machine learning model_ or a _database_.\n",
    "\n",
    "#### 🚀 **Simplified Access**  \n",
    "You don’t need to understand or rewrite the internal code — just **call the API** to use the service through a simple `GET` or `POST` request.\n",
    "\n",
    "#### 🔄 **Modularity & Reusability**  \n",
    "APIs let you **reuse functionality** (e.g., a prediction model) across multiple apps without duplicating code — making your system more maintainable.\n",
    "\n",
    "#### 📈 **Scalability**  \n",
    "They allow easy integration of new services (like `payment`, `translation`, or `ML inference`) **without breaking existing code** — perfect for growing systems.\n",
    "\n",
    "#### 🔒 **Security**  \n",
    "APIs expose **only what's necessary**, keeping internal logic secure while still offering useful functionality to the outside world.\n"
   ]
  },
  {
   "cell_type": "markdown",
   "id": "1dec473f",
   "metadata": {},
   "source": []
  },
  {
   "cell_type": "markdown",
   "id": "326507fe",
   "metadata": {},
   "source": [
    "____"
   ]
  },
  {
   "cell_type": "markdown",
   "id": "3c96cfef",
   "metadata": {},
   "source": [
    "# **FASTAPI**"
   ]
  },
  {
   "cell_type": "markdown",
   "id": "46b2432f",
   "metadata": {},
   "source": [
    "\n",
    "**FastAPI** is a **modern, high-performance web framework** for building APIs with Python 3.7+ based on standard Python type hints.\n",
    "\n",
    "It is designed to be **fast, intuitive, and easy to use**, especially for tasks like **machine learning model deployment**, **microservices**, and **RESTful APIs**.\n",
    "\n",
    "---"
   ]
  },
  {
   "cell_type": "markdown",
   "id": "96b58d77",
   "metadata": {},
   "source": [
    "### 🛠️ Common Tools & Integrations\n",
    "\n",
    "- **Uvicorn**: ASGI server used to run FastAPI apps. It's fast and lightweight.\n",
    "- **Pydantic**: For data validation and parsing based on Python type hints.\n",
    "- **Starlette**: The ASGI toolkit that powers the routing, middleware, and core of FastAPI.\n",
    "- **Docker**: Commonly used for containerizing FastAPI applications.\n",
    "- **Gunicorn + Uvicorn Workers**: For running production-grade FastAPI apps with process management.\n",
    "\n",
    "---"
   ]
  },
  {
   "cell_type": "markdown",
   "id": "74627279",
   "metadata": {},
   "source": [
    " ### 🏗️ Key Architectural Features\n",
    "\n",
    "### ✅ **Asynchronous Support**\n",
    "Built on top of **Starlette** and **Pydantic**, FastAPI fully supports `async` and `await`, enabling **non-blocking I/O operations** — ideal for scalable APIs.\n",
    "\n",
    "### 🧠 **Type-Hint Based Validation**\n",
    "Uses **Python type hints** to auto-validate inputs and generate both request and response models — this makes the code **self-documenting** and **robust**.\n",
    "\n",
    "### 🧪 **Interactive API Docs**\n",
    "Automatically generates Swagger UI and ReDoc docs at `/docs` and `/redoc` using **OpenAPI** standards.\n",
    "\n",
    "### ♻️ **Dependency Injection System**\n",
    "FastAPI includes a powerful **dependency injection** mechanism, making it easier to manage shared logic like authentication, DB sessions, etc.\n"
   ]
  },
  {
   "cell_type": "markdown",
   "id": "d1b25ed7",
   "metadata": {},
   "source": [
    "## ⚡ Why is FastAPI So Fast?\n",
    "\n",
    "FastAPI is one of the **fastest Python web frameworks** — comparable to Node.js and Go in performance. Here’s what’s happening under the hood:\n",
    "\n",
    "---"
   ]
  },
  {
   "cell_type": "markdown",
   "id": "457e5eff",
   "metadata": {},
   "source": [
    "### 🔍 **1. Built on ASGI with Uvicorn**\n",
    "\n",
    "FastAPI runs on **ASGI** (Asynchronous Server Gateway Interface), not WSGI.  \n",
    "This allows **non-blocking, asynchronous** request handling using `async` / `await`, ideal for handling:\n",
    "- High I/O tasks (e.g., DB, file, network access)\n",
    "- Multiple concurrent requests efficiently\n",
    "\n",
    "➡️ **Uvicorn** is the lightning-fast ASGI server powering it, written in `uvloop` (a faster event loop built on libuv).\n",
    "\n",
    "---\n"
   ]
  },
  {
   "cell_type": "markdown",
   "id": "9c0044b3",
   "metadata": {},
   "source": [
    "### 🧠 **2. Type Hints + Pydantic = Fast Parsing & Validation**\n",
    "\n",
    "FastAPI leverages:\n",
    "- **Python 3.7+ type hints** to automatically infer request/response schemas.\n",
    "- **Pydantic**, which uses compiled Cython under the hood for **blazing-fast data parsing and validation**.\n",
    "\n",
    "➡️ Less boilerplate, more speed — data is parsed faster than native Python alternatives.\n",
    "\n",
    "---"
   ]
  },
  {
   "cell_type": "markdown",
   "id": "57e26454",
   "metadata": {},
   "source": [
    "### 🧬 **3. Starlette Core for Performance**\n",
    "\n",
    "The core of FastAPI is built on **Starlette**, a high-performance ASGI toolkit.  \n",
    "It provides:\n",
    "- Fast routing\n",
    "- WebSocket support\n",
    "- Background tasks & middleware\n",
    "\n",
    "➡️ Starlette contributes directly to FastAPI's **lightweight, async-first design**.\n",
    "\n",
    "---\n",
    "\n",
    "### 🧪 **4. Auto Docs from OpenAPI (Zero Overhead)**\n",
    "\n",
    "FastAPI auto-generates Swagger & ReDoc documentation via **OpenAPI** without runtime penalties.  \n",
    "Everything is pre-compiled at startup using **Python introspection and type hints**, not during request handling.\n",
    "\n",
    "---"
   ]
  },
  {
   "cell_type": "markdown",
   "id": "ecb84311",
   "metadata": {},
   "source": [
    "### ✅ Summary\n",
    "\n",
    "| Feature                  | Why It’s Fast                                 |\n",
    "|--------------------------|-----------------------------------------------|\n",
    "| ASGI + Uvicorn           | Async, event-driven, non-blocking             |\n",
    "| Pydantic                 | Fast validation via Cython                    |\n",
    "| Type Hints               | Auto validation, no reflection or runtime cost |\n",
    "| Starlette                | Lightweight async web toolkit                 |\n",
    "| Precompiled OpenAPI Docs | Zero runtime cost for API schema generation  |"
   ]
  },
  {
   "cell_type": "markdown",
   "id": "90670402",
   "metadata": {},
   "source": []
  },
  {
   "cell_type": "markdown",
   "id": "ef000ecc",
   "metadata": {},
   "source": [
    "## **🌐 What are HTTP Methods?**"
   ]
  },
  {
   "cell_type": "markdown",
   "id": "213de849",
   "metadata": {},
   "source": [
    "HTTP methods define the type of action you want to perform on a given resource in a web application (like creating, reading, updating, or deleting data). They are the backbone of RESTful APIs."
   ]
  },
  {
   "cell_type": "markdown",
   "id": "2deee33e",
   "metadata": {},
   "source": [
    "### 🧩 **Common HTTP Methods**\n",
    "\n",
    "| **Method** | **Description**                                                          | **Used For**                         |\n",
    "|------------|---------------------------------------------------------------------------|--------------------------------------|\n",
    "| `GET`      | 🔍 Retrieve data from the server                                           | Fetching data (e.g., `/patients`)    |\n",
    "| `POST`     | 📝 Send data to the server to create a new resource                       | Creating data (e.g., `/patients`)    |\n",
    "| `PUT`      | ♻️ Completely update or replace an existing resource                      | Full update (e.g., `/patients/1`)    |\n",
    "| `PATCH`    | ✂️ Partially update a resource (only certain fields)                      | Partial update (e.g., `/patients/1`) |\n",
    "| `DELETE`   | 🗑️ Remove a resource from the server                                      | Deleting data (e.g., `/patients/1`)  |\n"
   ]
  },
  {
   "cell_type": "markdown",
   "id": "935cc943",
   "metadata": {},
   "source": []
  },
  {
   "cell_type": "markdown",
   "id": "f05c3db9",
   "metadata": {},
   "source": [
    "### **✅ What are Path Parameters in FastAPI?**"
   ]
  },
  {
   "cell_type": "markdown",
   "id": "338c2739",
   "metadata": {},
   "source": [
    "In FastAPI, path parameters are variables extracted directly from the URL path. They allow your API to receive input from the route itself — like /users/123 — where 123 is a dynamic value passed as a parameter.\n",
    "\n",
    "🔹 Why Use Them?\n",
    "You use path parameters when you want your API to behave differently based on the value in the URL. For example:\n",
    "\n",
    "/users/123 → Get user with ID 123\n",
    "\n",
    "/products/456 → Get product with ID 456\n",
    "\n",
    "| Feature         | Path Param Example          |\n",
    "| --------------- | --------------------------- |\n",
    "| Usage           | `/users/{user_id}`          |\n",
    "| Dynamic value   | Yes (changes per request)   |\n",
    "| Purpose         | Identify specific resources |\n",
    "| Defined in code | With `{}` in the route path |\n"
   ]
  },
  {
   "cell_type": "markdown",
   "id": "fd94ec02",
   "metadata": {},
   "source": [
    "🧠 Behind the Scenes\n",
    "FastAPI:\n",
    "--> Reads the {} part from the route\n",
    "\n",
    "--> Converts it to the specified type (int, str, etc.)\n",
    "\n",
    "--> Passes it as an argument to the function"
   ]
  },
  {
   "cell_type": "markdown",
   "id": "828e6f5b",
   "metadata": {},
   "source": [
    "🛡️ Type Safety & Docs\n",
    "- FastAPI uses Python type hints, so it can:\n",
    "- Automatically validate and convert types\n",
    "- Generate clean and interactive Swagger docs at: http://localhost:8000/docs"
   ]
  },
  {
   "cell_type": "markdown",
   "id": "50073d7e",
   "metadata": {},
   "source": [
    "- In FastAPI, the @app.get, @app.post, @app.put, @app.delete, etc., are path operation decorators used to define the HTTP method and the path for a route. The general term you're asking about is the path operation function.\n",
    "\n",
    "✅ Syntax:\n",
    "@app.get(\"/items/{item_id}\")  # This defines a GET path operation\n",
    "def read_item(item_id: int):   # This is the path operation function\n",
    "    return {\"item_id\": item_id}\n",
    "\n",
    "🧠 Terminology Breakdown:\n",
    "- Path: The string path like \"/items/{item_id}\"\n",
    "- Path Parameter: item_id in \"{item_id}\"\n",
    "- Path Operation: The combination of method + path (GET /items/{item_id})\n",
    "- Path Operation Function: The Python function that handles the request (e.g., read_item)\n",
    "\n",
    "⚙️ Supported Path Operations in FastAPI:\n",
    "@app.get(path)\n",
    "\n",
    "@app.post(path)\n",
    "\n",
    "@app.put(path)\n",
    "\n",
    "@app.delete(path)\n",
    "\n",
    "@app.patch(path)\n",
    "\n",
    "@app.options(path)\n",
    "\n",
    "@app.head(path)"
   ]
  },
  {
   "cell_type": "markdown",
   "id": "3c7ff610",
   "metadata": {},
   "source": [
    "## **Path() function from fastapi**"
   ]
  },
  {
   "cell_type": "markdown",
   "id": "d2309cfa",
   "metadata": {},
   "source": [
    "✅ Path() in FastAPI\n",
    "FastAPI’s Path() is used to define metadata, validations, and constraints for path parameters (i.e., those in the URL like /item/{item_id})."
   ]
  },
  {
   "cell_type": "markdown",
   "id": "cbde0ad6",
   "metadata": {},
   "source": [
    "| Parameter                  | Purpose                                    |\n",
    "| -------------------------- | ------------------------------------------ |\n",
    "| `default`                  | Required/Optional (`...` means required)   |\n",
    "| `title`                    | Adds title in OpenAPI docs                 |\n",
    "| `description`              | Adds description in docs                   |\n",
    "| `ge`, `le`                 | Greater than or equal / Less than or equal |\n",
    "| `gt`, `lt`                 | Greater than / Less than                   |\n",
    "| `min_length`, `max_length` | For string constraints                     |\n",
    "| `regex`                    | Regex pattern match                        |\n",
    "| `example`                  | Shown in docs                              |\n",
    "| `alias`                    | Use different key in query/body            |\n",
    "| `deprecated`               | Marks deprecated in docs                   |\n"
   ]
  },
  {
   "cell_type": "markdown",
   "id": "4693fbfc",
   "metadata": {},
   "source": [
    "# <span style=\"color:#1f77b4\"><strong>📘 HTTP Status Codes: Overview</strong></span>"
   ]
  },
  {
   "cell_type": "markdown",
   "id": "9f89fe1e",
   "metadata": {},
   "source": [
    "HTTP status codes are **3-digit** numbers returned by the server to indicate the result of a client’s request.  \n",
    "They are categorized into **5 classes** based on the first digit.\n",
    "\n",
    "---"
   ]
  },
  {
   "cell_type": "markdown",
   "id": "75a707d3",
   "metadata": {},
   "source": [
    "\n",
    "## <span style=\"color:#1f77b4\"><strong>🔵 1xx – Informational</strong></span>\n",
    "\n",
    "> _Request received, continuing process._\n",
    "\n",
    "- **100 Continue** – Request headers received, client should proceed with request body.\n",
    "- **101 Switching Protocols** – Server agrees to switch protocols (e.g., to WebSocket).\n"
   ]
  },
  {
   "cell_type": "markdown",
   "id": "d60ffd6c",
   "metadata": {},
   "source": [
    "\n",
    "## <span style=\"color:#2ca02c\"><strong>🟢 2xx – Success</strong></span>\n",
    "\n",
    "> _The request was successfully received, understood, and accepted._\n",
    "\n",
    "- **200 OK** – Standard success response.\n",
    "- **201 Created** – Resource successfully created (commonly used with POST).\n",
    "- **204 No Content** – Success, but no data to return.\n",
    "\n",
    "---"
   ]
  },
  {
   "cell_type": "markdown",
   "id": "f74c7100",
   "metadata": {},
   "source": [
    "## <span style=\"color:#ff7f0e\"><strong>🟡 3xx – Redirection</strong></span>\n",
    "\n",
    "> _Further action must be taken to complete the request._\n",
    "\n",
    "- **301 Moved Permanently** – Resource moved to a new URL permanently.\n",
    "- **302 Found** – Temporary redirect.\n",
    "- **304 Not Modified** – Cached version is still valid (used with ETags).\n",
    "\n",
    "---"
   ]
  },
  {
   "cell_type": "markdown",
   "id": "bcab65f8",
   "metadata": {},
   "source": [
    "## <span style=\"color:#d62728\"><strong>🔴 4xx – Client Errors</strong></span>\n",
    "\n",
    "> _The client made a mistake in the request._\n",
    "\n",
    "- **400 Bad Request** – Malformed syntax or invalid data.\n",
    "- **401 Unauthorized** – Authentication is required.\n",
    "- **403 Forbidden** – Authenticated but not allowed.\n",
    "- **404 Not Found** – Resource not found.\n",
    "\n",
    "---"
   ]
  },
  {
   "cell_type": "markdown",
   "id": "1a6c1b08",
   "metadata": {},
   "source": [
    "## <span style=\"color:#9467bd\"><strong>⚫ 5xx – Server Errors</strong></span>\n",
    "\n",
    "> _The server failed to fulfill a valid request._\n",
    "\n",
    "- **500 Internal Server Error** – Generic server failure.\n",
    "- **502 Bad Gateway** – Invalid response from upstream server.\n",
    "- **503 Service Unavailable** – Server is overloaded or under maintenance.\n",
    "- **504 Gateway Timeout** – Server didn’t receive a timely response.\n",
    "\n",
    "---"
   ]
  },
  {
   "cell_type": "markdown",
   "id": "36c7e3a4",
   "metadata": {},
   "source": []
  }
 ],
 "metadata": {
  "language_info": {
   "name": "python"
  }
 },
 "nbformat": 4,
 "nbformat_minor": 5
}
